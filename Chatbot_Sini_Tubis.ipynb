{
  "nbformat": 4,
  "nbformat_minor": 0,
  "metadata": {
    "colab": {
      "name": "Chabot_Sini_Tubis.ipynb",
      "provenance": [],
      "collapsed_sections": []
    },
    "kernelspec": {
      "display_name": "Python 3",
      "name": "python3"
    },
    "language_info": {
      "name": "python"
    }
  },
  "cells": [
    {
      "cell_type": "markdown",
      "metadata": {
        "id": "O_4inZqRQJ0t"
      },
      "source": [
        "Install rasa_nlu[spacy], rasa_core, nest_asyncio and ipython \n"
      ]
    },
    {
      "cell_type": "code",
      "metadata": {
        "colab": {
          "base_uri": "https://localhost:8080/"
        },
        "id": "fnltCoO6SUI8",
        "outputId": "7d966aa6-3490-492e-98bd-bc257d0427c0"
      },
      "source": [
        "!pip install nest_asyncio==1.3.3"
      ],
      "execution_count": null,
      "outputs": [
        {
          "output_type": "stream",
          "name": "stdout",
          "text": [
            "Requirement already satisfied: nest_asyncio==1.3.3 in /usr/local/lib/python3.7/dist-packages (1.3.3)\n"
          ]
        }
      ]
    },
    {
      "cell_type": "code",
      "metadata": {
        "colab": {
          "base_uri": "https://localhost:8080/"
        },
        "id": "eA0eQR2haCUa",
        "outputId": "d6ca9423-a0d5-4b29-9553-9bb09949c262"
      },
      "source": [
        "!pip install rasa_nlu[spacy]  #restart runtime after installation and rerun previous cells."
      ],
      "execution_count": null,
      "outputs": [
        {
          "output_type": "stream",
          "name": "stdout",
          "text": [
            "Requirement already satisfied: rasa_nlu[spacy] in /usr/local/lib/python3.7/dist-packages (0.15.1)\n",
            "Requirement already satisfied: boto3~=1.9 in /usr/local/lib/python3.7/dist-packages (from rasa_nlu[spacy]) (1.20.6)\n",
            "Requirement already satisfied: numpy>=1.16 in /usr/local/lib/python3.7/dist-packages (from rasa_nlu[spacy]) (1.19.5)\n",
            "Requirement already satisfied: cloudpickle~=0.6.1 in /usr/local/lib/python3.7/dist-packages (from rasa_nlu[spacy]) (0.6.1)\n",
            "Requirement already satisfied: gevent~=1.3 in /usr/local/lib/python3.7/dist-packages (from rasa_nlu[spacy]) (1.5.0)\n",
            "Requirement already satisfied: future~=0.17.1 in /usr/local/lib/python3.7/dist-packages (from rasa_nlu[spacy]) (0.17.1)\n",
            "Requirement already satisfied: coloredlogs~=10.0 in /usr/local/lib/python3.7/dist-packages (from rasa_nlu[spacy]) (10.0)\n",
            "Requirement already satisfied: tqdm~=4.19 in /usr/local/lib/python3.7/dist-packages (from rasa_nlu[spacy]) (4.62.3)\n",
            "Requirement already satisfied: klein~=17.10 in /usr/local/lib/python3.7/dist-packages (from rasa_nlu[spacy]) (17.10.0)\n",
            "Requirement already satisfied: ruamel.yaml~=0.15.7 in /usr/local/lib/python3.7/dist-packages (from rasa_nlu[spacy]) (0.15.100)\n",
            "Requirement already satisfied: scikit-learn~=0.20.2 in /usr/local/lib/python3.7/dist-packages (from rasa_nlu[spacy]) (0.20.4)\n",
            "Requirement already satisfied: jsonschema~=2.6 in /usr/local/lib/python3.7/dist-packages (from rasa_nlu[spacy]) (2.6.0)\n",
            "Requirement already satisfied: simplejson~=3.13 in /usr/local/lib/python3.7/dist-packages (from rasa_nlu[spacy]) (3.17.6)\n",
            "Requirement already satisfied: packaging~=18.0 in /usr/local/lib/python3.7/dist-packages (from rasa_nlu[spacy]) (18.0)\n",
            "Requirement already satisfied: matplotlib~=2.2 in /usr/local/lib/python3.7/dist-packages (from rasa_nlu[spacy]) (2.2.5)\n",
            "Requirement already satisfied: requests~=2.20 in /usr/local/lib/python3.7/dist-packages (from rasa_nlu[spacy]) (2.23.0)\n",
            "Requirement already satisfied: typing~=3.6 in /usr/local/lib/python3.7/dist-packages (from rasa_nlu[spacy]) (3.7.4.3)\n",
            "Requirement already satisfied: scipy~=1.2 in /usr/local/lib/python3.7/dist-packages (from rasa_nlu[spacy]) (1.4.1)\n",
            "Requirement already satisfied: spacy<=2.0.18,>2.0 in /usr/local/lib/python3.7/dist-packages (from rasa_nlu[spacy]) (2.0.18)\n",
            "Requirement already satisfied: sklearn-crfsuite~=0.3.6 in /usr/local/lib/python3.7/dist-packages (from rasa_nlu[spacy]) (0.3.6)\n",
            "Requirement already satisfied: jmespath<1.0.0,>=0.7.1 in /usr/local/lib/python3.7/dist-packages (from boto3~=1.9->rasa_nlu[spacy]) (0.10.0)\n",
            "Requirement already satisfied: botocore<1.24.0,>=1.23.6 in /usr/local/lib/python3.7/dist-packages (from boto3~=1.9->rasa_nlu[spacy]) (1.23.6)\n",
            "Requirement already satisfied: s3transfer<0.6.0,>=0.5.0 in /usr/local/lib/python3.7/dist-packages (from boto3~=1.9->rasa_nlu[spacy]) (0.5.0)\n",
            "Requirement already satisfied: urllib3<1.27,>=1.25.4 in /usr/local/lib/python3.7/dist-packages (from botocore<1.24.0,>=1.23.6->boto3~=1.9->rasa_nlu[spacy]) (1.25.11)\n",
            "Requirement already satisfied: python-dateutil<3.0.0,>=2.1 in /usr/local/lib/python3.7/dist-packages (from botocore<1.24.0,>=1.23.6->boto3~=1.9->rasa_nlu[spacy]) (2.8.2)\n",
            "Requirement already satisfied: humanfriendly>=4.7 in /usr/local/lib/python3.7/dist-packages (from coloredlogs~=10.0->rasa_nlu[spacy]) (10.0)\n",
            "Requirement already satisfied: greenlet>=0.4.14 in /usr/local/lib/python3.7/dist-packages (from gevent~=1.3->rasa_nlu[spacy]) (1.1.2)\n",
            "Requirement already satisfied: incremental in /usr/local/lib/python3.7/dist-packages (from klein~=17.10->rasa_nlu[spacy]) (21.3.0)\n",
            "Requirement already satisfied: werkzeug in /usr/local/lib/python3.7/dist-packages (from klein~=17.10->rasa_nlu[spacy]) (1.0.1)\n",
            "Requirement already satisfied: six in /usr/local/lib/python3.7/dist-packages (from klein~=17.10->rasa_nlu[spacy]) (1.15.0)\n",
            "Requirement already satisfied: Twisted>=15.5 in /usr/local/lib/python3.7/dist-packages (from klein~=17.10->rasa_nlu[spacy]) (21.7.0)\n",
            "Requirement already satisfied: cycler>=0.10 in /usr/local/lib/python3.7/dist-packages (from matplotlib~=2.2->rasa_nlu[spacy]) (0.11.0)\n",
            "Requirement already satisfied: pytz in /usr/local/lib/python3.7/dist-packages (from matplotlib~=2.2->rasa_nlu[spacy]) (2018.9)\n",
            "Requirement already satisfied: kiwisolver>=1.0.1 in /usr/local/lib/python3.7/dist-packages (from matplotlib~=2.2->rasa_nlu[spacy]) (1.3.2)\n",
            "Requirement already satisfied: pyparsing!=2.0.4,!=2.1.2,!=2.1.6,>=2.0.1 in /usr/local/lib/python3.7/dist-packages (from matplotlib~=2.2->rasa_nlu[spacy]) (2.4.7)\n",
            "Requirement already satisfied: idna<3,>=2.5 in /usr/local/lib/python3.7/dist-packages (from requests~=2.20->rasa_nlu[spacy]) (2.10)\n",
            "Requirement already satisfied: certifi>=2017.4.17 in /usr/local/lib/python3.7/dist-packages (from requests~=2.20->rasa_nlu[spacy]) (2021.10.8)\n",
            "Requirement already satisfied: chardet<4,>=3.0.2 in /usr/local/lib/python3.7/dist-packages (from requests~=2.20->rasa_nlu[spacy]) (3.0.4)\n",
            "Requirement already satisfied: tabulate in /usr/local/lib/python3.7/dist-packages (from sklearn-crfsuite~=0.3.6->rasa_nlu[spacy]) (0.8.9)\n",
            "Requirement already satisfied: python-crfsuite>=0.8.3 in /usr/local/lib/python3.7/dist-packages (from sklearn-crfsuite~=0.3.6->rasa_nlu[spacy]) (0.9.7)\n",
            "Requirement already satisfied: dill<0.3,>=0.2 in /usr/local/lib/python3.7/dist-packages (from spacy<=2.0.18,>2.0->rasa_nlu[spacy]) (0.2.9)\n",
            "Requirement already satisfied: preshed<2.1.0,>=2.0.1 in /usr/local/lib/python3.7/dist-packages (from spacy<=2.0.18,>2.0->rasa_nlu[spacy]) (2.0.1)\n",
            "Requirement already satisfied: regex==2018.01.10 in /usr/local/lib/python3.7/dist-packages (from spacy<=2.0.18,>2.0->rasa_nlu[spacy]) (2018.1.10)\n",
            "Requirement already satisfied: plac<1.0.0,>=0.9.6 in /usr/local/lib/python3.7/dist-packages (from spacy<=2.0.18,>2.0->rasa_nlu[spacy]) (0.9.6)\n",
            "Requirement already satisfied: thinc<6.13.0,>=6.12.1 in /usr/local/lib/python3.7/dist-packages (from spacy<=2.0.18,>2.0->rasa_nlu[spacy]) (6.12.1)\n",
            "Requirement already satisfied: murmurhash<1.1.0,>=0.28.0 in /usr/local/lib/python3.7/dist-packages (from spacy<=2.0.18,>2.0->rasa_nlu[spacy]) (1.0.6)\n",
            "Requirement already satisfied: cymem<2.1.0,>=2.0.2 in /usr/local/lib/python3.7/dist-packages (from spacy<=2.0.18,>2.0->rasa_nlu[spacy]) (2.0.6)\n",
            "Requirement already satisfied: ujson>=1.35 in /usr/local/lib/python3.7/dist-packages (from spacy<=2.0.18,>2.0->rasa_nlu[spacy]) (4.2.0)\n",
            "Requirement already satisfied: msgpack-numpy<0.4.4 in /usr/local/lib/python3.7/dist-packages (from thinc<6.13.0,>=6.12.1->spacy<=2.0.18,>2.0->rasa_nlu[spacy]) (0.4.3.2)\n",
            "Requirement already satisfied: wrapt<1.11.0,>=1.10.0 in /usr/local/lib/python3.7/dist-packages (from thinc<6.13.0,>=6.12.1->spacy<=2.0.18,>2.0->rasa_nlu[spacy]) (1.10.11)\n",
            "Requirement already satisfied: cytoolz<0.10,>=0.9.0 in /usr/local/lib/python3.7/dist-packages (from thinc<6.13.0,>=6.12.1->spacy<=2.0.18,>2.0->rasa_nlu[spacy]) (0.9.0.1)\n",
            "Requirement already satisfied: msgpack<0.6.0,>=0.5.6 in /usr/local/lib/python3.7/dist-packages (from thinc<6.13.0,>=6.12.1->spacy<=2.0.18,>2.0->rasa_nlu[spacy]) (0.5.6)\n",
            "Requirement already satisfied: toolz>=0.8.0 in /usr/local/lib/python3.7/dist-packages (from cytoolz<0.10,>=0.9.0->thinc<6.13.0,>=6.12.1->spacy<=2.0.18,>2.0->rasa_nlu[spacy]) (0.11.2)\n",
            "Requirement already satisfied: typing-extensions>=3.6.5 in /usr/local/lib/python3.7/dist-packages (from Twisted>=15.5->klein~=17.10->rasa_nlu[spacy]) (3.10.0.2)\n",
            "Requirement already satisfied: attrs>=19.2.0 in /usr/local/lib/python3.7/dist-packages (from Twisted>=15.5->klein~=17.10->rasa_nlu[spacy]) (21.2.0)\n",
            "Requirement already satisfied: zope.interface>=4.4.2 in /usr/local/lib/python3.7/dist-packages (from Twisted>=15.5->klein~=17.10->rasa_nlu[spacy]) (5.4.0)\n",
            "Requirement already satisfied: hyperlink>=17.1.1 in /usr/local/lib/python3.7/dist-packages (from Twisted>=15.5->klein~=17.10->rasa_nlu[spacy]) (21.0.0)\n",
            "Requirement already satisfied: constantly>=15.1 in /usr/local/lib/python3.7/dist-packages (from Twisted>=15.5->klein~=17.10->rasa_nlu[spacy]) (15.1.0)\n",
            "Requirement already satisfied: Automat>=0.8.0 in /usr/local/lib/python3.7/dist-packages (from Twisted>=15.5->klein~=17.10->rasa_nlu[spacy]) (20.2.0)\n",
            "Requirement already satisfied: setuptools in /usr/local/lib/python3.7/dist-packages (from zope.interface>=4.4.2->Twisted>=15.5->klein~=17.10->rasa_nlu[spacy]) (57.4.0)\n"
          ]
        }
      ]
    },
    {
      "cell_type": "code",
      "metadata": {
        "colab": {
          "base_uri": "https://localhost:8080/"
        },
        "id": "vi-wAAb3bAXv",
        "outputId": "f969207e-e2fc-43c4-d0c1-4c4d4f3839f8"
      },
      "source": [
        "!pip install rasa_core"
      ],
      "execution_count": null,
      "outputs": [
        {
          "output_type": "stream",
          "name": "stdout",
          "text": [
            "Requirement already satisfied: rasa_core in /usr/local/lib/python3.7/dist-packages (0.14.5)\n",
            "Requirement already satisfied: rasa-nlu~=0.15 in /usr/local/lib/python3.7/dist-packages (from rasa_core) (0.15.1)\n",
            "Requirement already satisfied: flask~=1.0 in /usr/local/lib/python3.7/dist-packages (from rasa_core) (1.1.4)\n",
            "Requirement already satisfied: python-dateutil~=2.7 in /usr/local/lib/python3.7/dist-packages (from rasa_core) (2.8.2)\n",
            "Requirement already satisfied: terminaltables~=3.1 in /usr/local/lib/python3.7/dist-packages (from rasa_core) (3.1.0)\n",
            "Requirement already satisfied: typing~=3.0 in /usr/local/lib/python3.7/dist-packages (from rasa_core) (3.7.4.3)\n",
            "Requirement already satisfied: jsonpickle~=1.0 in /usr/local/lib/python3.7/dist-packages (from rasa_core) (1.5.2)\n",
            "Requirement already satisfied: rasa-core-sdk~=0.14 in /usr/local/lib/python3.7/dist-packages (from rasa_core) (0.14.0)\n",
            "Requirement already satisfied: rocketchat-API~=0.6.0 in /usr/local/lib/python3.7/dist-packages (from rasa_core) (0.6.36)\n",
            "Requirement already satisfied: requests~=2.20 in /usr/local/lib/python3.7/dist-packages (from rasa_core) (2.23.0)\n",
            "Requirement already satisfied: scikit-learn~=0.20.0 in /usr/local/lib/python3.7/dist-packages (from rasa_core) (0.20.4)\n",
            "Requirement already satisfied: python-socketio~=3.0 in /usr/local/lib/python3.7/dist-packages (from rasa_core) (3.1.2)\n",
            "Requirement already satisfied: packaging~=18.0 in /usr/local/lib/python3.7/dist-packages (from rasa_core) (18.0)\n",
            "Requirement already satisfied: mattermostwrapper~=2.0 in /usr/local/lib/python3.7/dist-packages (from rasa_core) (2.2)\n",
            "Requirement already satisfied: fbmessenger~=5.0 in /usr/local/lib/python3.7/dist-packages (from rasa_core) (5.6.0)\n",
            "Requirement already satisfied: twilio~=6.0 in /usr/local/lib/python3.7/dist-packages (from rasa_core) (6.63.2)\n",
            "Requirement already satisfied: questionary>=1.0.1 in /usr/local/lib/python3.7/dist-packages (from rasa_core) (1.10.0)\n",
            "Requirement already satisfied: pydot~=1.4 in /usr/local/lib/python3.7/dist-packages (from rasa_core) (1.4.2)\n",
            "Requirement already satisfied: fakeredis~=0.10.0 in /usr/local/lib/python3.7/dist-packages (from rasa_core) (0.10.3)\n",
            "Requirement already satisfied: networkx~=2.2 in /usr/local/lib/python3.7/dist-packages (from rasa_core) (2.6.3)\n",
            "Requirement already satisfied: ruamel.yaml~=0.15.0 in /usr/local/lib/python3.7/dist-packages (from rasa_core) (0.15.100)\n",
            "Requirement already satisfied: python-telegram-bot~=11.0 in /usr/local/lib/python3.7/dist-packages (from rasa_core) (11.1.0)\n",
            "Requirement already satisfied: flask-cors~=3.0 in /usr/local/lib/python3.7/dist-packages (from rasa_core) (3.0.10)\n",
            "Requirement already satisfied: jsonschema~=2.6 in /usr/local/lib/python3.7/dist-packages (from rasa_core) (2.6.0)\n",
            "Requirement already satisfied: tqdm~=4.0 in /usr/local/lib/python3.7/dist-packages (from rasa_core) (4.62.3)\n",
            "Requirement already satisfied: numpy~=1.16 in /usr/local/lib/python3.7/dist-packages (from rasa_core) (1.19.5)\n",
            "Requirement already satisfied: tensorflow~=1.13.0 in /usr/local/lib/python3.7/dist-packages (from rasa_core) (1.13.2)\n",
            "Requirement already satisfied: colorhash~=1.0 in /usr/local/lib/python3.7/dist-packages (from rasa_core) (1.0.3)\n",
            "Requirement already satisfied: pytz~=2018.9 in /usr/local/lib/python3.7/dist-packages (from rasa_core) (2018.9)\n",
            "Requirement already satisfied: webexteamssdk~=1.0 in /usr/local/lib/python3.7/dist-packages (from rasa_core) (1.6)\n",
            "Requirement already satisfied: scipy~=1.2 in /usr/local/lib/python3.7/dist-packages (from rasa_core) (1.4.1)\n",
            "Requirement already satisfied: coloredlogs~=10.0 in /usr/local/lib/python3.7/dist-packages (from rasa_core) (10.0)\n",
            "Requirement already satisfied: pymongo~=3.7 in /usr/local/lib/python3.7/dist-packages (from rasa_core) (3.12.1)\n",
            "Requirement already satisfied: apscheduler~=3.0 in /usr/local/lib/python3.7/dist-packages (from rasa_core) (3.8.1)\n",
            "Requirement already satisfied: pika~=0.12.0 in /usr/local/lib/python3.7/dist-packages (from rasa_core) (0.12.0)\n",
            "Requirement already satisfied: redis~=2.0 in /usr/local/lib/python3.7/dist-packages (from rasa_core) (2.10.6)\n",
            "Requirement already satisfied: pykwalify~=1.7.0 in /usr/local/lib/python3.7/dist-packages (from rasa_core) (1.7.0)\n",
            "Requirement already satisfied: colorclass~=2.2 in /usr/local/lib/python3.7/dist-packages (from rasa_core) (2.2.0)\n",
            "Requirement already satisfied: flask-jwt-simple~=0.0.3 in /usr/local/lib/python3.7/dist-packages (from rasa_core) (0.0.3)\n",
            "Requirement already satisfied: gevent~=1.3 in /usr/local/lib/python3.7/dist-packages (from rasa_core) (1.5.0)\n",
            "Requirement already satisfied: slackclient~=1.0 in /usr/local/lib/python3.7/dist-packages (from rasa_core) (1.3.2)\n",
            "Requirement already satisfied: setuptools>=0.7 in /usr/local/lib/python3.7/dist-packages (from apscheduler~=3.0->rasa_core) (57.4.0)\n",
            "Requirement already satisfied: six>=1.4.0 in /usr/local/lib/python3.7/dist-packages (from apscheduler~=3.0->rasa_core) (1.15.0)\n",
            "Requirement already satisfied: tzlocal!=3.*,>=2.0 in /usr/local/lib/python3.7/dist-packages (from apscheduler~=3.0->rasa_core) (4.1)\n",
            "Requirement already satisfied: humanfriendly>=4.7 in /usr/local/lib/python3.7/dist-packages (from coloredlogs~=10.0->rasa_core) (10.0)\n",
            "Requirement already satisfied: itsdangerous<2.0,>=0.24 in /usr/local/lib/python3.7/dist-packages (from flask~=1.0->rasa_core) (1.1.0)\n",
            "Requirement already satisfied: Werkzeug<2.0,>=0.15 in /usr/local/lib/python3.7/dist-packages (from flask~=1.0->rasa_core) (1.0.1)\n",
            "Requirement already satisfied: click<8.0,>=5.1 in /usr/local/lib/python3.7/dist-packages (from flask~=1.0->rasa_core) (7.1.2)\n",
            "Requirement already satisfied: Jinja2<3.0,>=2.10.1 in /usr/local/lib/python3.7/dist-packages (from flask~=1.0->rasa_core) (2.11.3)\n",
            "Requirement already satisfied: PyJWT in /usr/local/lib/python3.7/dist-packages (from flask-jwt-simple~=0.0.3->rasa_core) (1.7.1)\n",
            "Requirement already satisfied: greenlet>=0.4.14 in /usr/local/lib/python3.7/dist-packages (from gevent~=1.3->rasa_core) (1.1.2)\n",
            "Requirement already satisfied: MarkupSafe>=0.23 in /usr/local/lib/python3.7/dist-packages (from Jinja2<3.0,>=2.10.1->flask~=1.0->rasa_core) (2.0.1)\n",
            "Requirement already satisfied: importlib-metadata in /usr/local/lib/python3.7/dist-packages (from jsonpickle~=1.0->rasa_core) (4.8.2)\n",
            "Requirement already satisfied: pyparsing>=2.0.2 in /usr/local/lib/python3.7/dist-packages (from packaging~=18.0->rasa_core) (2.4.7)\n",
            "Requirement already satisfied: docopt>=0.6.2 in /usr/local/lib/python3.7/dist-packages (from pykwalify~=1.7.0->rasa_core) (0.6.2)\n",
            "Requirement already satisfied: PyYAML>=3.11 in /usr/local/lib/python3.7/dist-packages (from pykwalify~=1.7.0->rasa_core) (3.13)\n",
            "Requirement already satisfied: python-engineio>=3.2.0 in /usr/local/lib/python3.7/dist-packages (from python-socketio~=3.0->rasa_core) (4.3.0)\n",
            "Requirement already satisfied: future>=0.16.0 in /usr/local/lib/python3.7/dist-packages (from python-telegram-bot~=11.0->rasa_core) (0.17.1)\n",
            "Requirement already satisfied: cryptography in /usr/local/lib/python3.7/dist-packages (from python-telegram-bot~=11.0->rasa_core) (35.0.0)\n",
            "Requirement already satisfied: certifi in /usr/local/lib/python3.7/dist-packages (from python-telegram-bot~=11.0->rasa_core) (2021.10.8)\n",
            "Requirement already satisfied: prompt_toolkit<4.0,>=2.0 in /usr/local/lib/python3.7/dist-packages (from questionary>=1.0.1->rasa_core) (3.0.22)\n",
            "Requirement already satisfied: wcwidth in /usr/local/lib/python3.7/dist-packages (from prompt_toolkit<4.0,>=2.0->questionary>=1.0.1->rasa_core) (0.2.5)\n",
            "Requirement already satisfied: ConfigArgParse~=0.13.0 in /usr/local/lib/python3.7/dist-packages (from rasa-core-sdk~=0.14->rasa_core) (0.13.0)\n",
            "Requirement already satisfied: matplotlib~=2.2 in /usr/local/lib/python3.7/dist-packages (from rasa-nlu~=0.15->rasa_core) (2.2.5)\n",
            "Requirement already satisfied: cloudpickle~=0.6.1 in /usr/local/lib/python3.7/dist-packages (from rasa-nlu~=0.15->rasa_core) (0.6.1)\n",
            "Requirement already satisfied: simplejson~=3.13 in /usr/local/lib/python3.7/dist-packages (from rasa-nlu~=0.15->rasa_core) (3.17.6)\n",
            "Requirement already satisfied: boto3~=1.9 in /usr/local/lib/python3.7/dist-packages (from rasa-nlu~=0.15->rasa_core) (1.20.6)\n",
            "Requirement already satisfied: klein~=17.10 in /usr/local/lib/python3.7/dist-packages (from rasa-nlu~=0.15->rasa_core) (17.10.0)\n",
            "Requirement already satisfied: jmespath<1.0.0,>=0.7.1 in /usr/local/lib/python3.7/dist-packages (from boto3~=1.9->rasa-nlu~=0.15->rasa_core) (0.10.0)\n",
            "Requirement already satisfied: botocore<1.24.0,>=1.23.6 in /usr/local/lib/python3.7/dist-packages (from boto3~=1.9->rasa-nlu~=0.15->rasa_core) (1.23.6)\n",
            "Requirement already satisfied: s3transfer<0.6.0,>=0.5.0 in /usr/local/lib/python3.7/dist-packages (from boto3~=1.9->rasa-nlu~=0.15->rasa_core) (0.5.0)\n",
            "Requirement already satisfied: urllib3<1.27,>=1.25.4 in /usr/local/lib/python3.7/dist-packages (from botocore<1.24.0,>=1.23.6->boto3~=1.9->rasa-nlu~=0.15->rasa_core) (1.25.11)\n",
            "Requirement already satisfied: incremental in /usr/local/lib/python3.7/dist-packages (from klein~=17.10->rasa-nlu~=0.15->rasa_core) (21.3.0)\n",
            "Requirement already satisfied: Twisted>=15.5 in /usr/local/lib/python3.7/dist-packages (from klein~=17.10->rasa-nlu~=0.15->rasa_core) (21.7.0)\n",
            "Requirement already satisfied: kiwisolver>=1.0.1 in /usr/local/lib/python3.7/dist-packages (from matplotlib~=2.2->rasa-nlu~=0.15->rasa_core) (1.3.2)\n",
            "Requirement already satisfied: cycler>=0.10 in /usr/local/lib/python3.7/dist-packages (from matplotlib~=2.2->rasa-nlu~=0.15->rasa_core) (0.11.0)\n",
            "Requirement already satisfied: idna<3,>=2.5 in /usr/local/lib/python3.7/dist-packages (from requests~=2.20->rasa_core) (2.10)\n",
            "Requirement already satisfied: chardet<4,>=3.0.2 in /usr/local/lib/python3.7/dist-packages (from requests~=2.20->rasa_core) (3.0.4)\n",
            "Requirement already satisfied: websocket-client<0.55.0,>=0.35 in /usr/local/lib/python3.7/dist-packages (from slackclient~=1.0->rasa_core) (0.54.0)\n",
            "Requirement already satisfied: grpcio>=1.8.6 in /usr/local/lib/python3.7/dist-packages (from tensorflow~=1.13.0->rasa_core) (1.41.1)\n",
            "Requirement already satisfied: keras-preprocessing>=1.0.5 in /usr/local/lib/python3.7/dist-packages (from tensorflow~=1.13.0->rasa_core) (1.1.2)\n",
            "Requirement already satisfied: wheel>=0.26 in /usr/local/lib/python3.7/dist-packages (from tensorflow~=1.13.0->rasa_core) (0.37.0)\n",
            "Requirement already satisfied: absl-py>=0.1.6 in /usr/local/lib/python3.7/dist-packages (from tensorflow~=1.13.0->rasa_core) (0.12.0)\n",
            "Requirement already satisfied: keras-applications>=1.0.6 in /usr/local/lib/python3.7/dist-packages (from tensorflow~=1.13.0->rasa_core) (1.0.8)\n",
            "Requirement already satisfied: tensorflow-estimator<1.14.0rc0,>=1.13.0 in /usr/local/lib/python3.7/dist-packages (from tensorflow~=1.13.0->rasa_core) (1.13.0)\n",
            "Requirement already satisfied: tensorboard<1.14.0,>=1.13.0 in /usr/local/lib/python3.7/dist-packages (from tensorflow~=1.13.0->rasa_core) (1.13.1)\n",
            "Requirement already satisfied: termcolor>=1.1.0 in /usr/local/lib/python3.7/dist-packages (from tensorflow~=1.13.0->rasa_core) (1.1.0)\n",
            "Requirement already satisfied: protobuf>=3.6.1 in /usr/local/lib/python3.7/dist-packages (from tensorflow~=1.13.0->rasa_core) (3.17.3)\n",
            "Requirement already satisfied: astor>=0.6.0 in /usr/local/lib/python3.7/dist-packages (from tensorflow~=1.13.0->rasa_core) (0.8.1)\n",
            "Requirement already satisfied: gast>=0.2.0 in /usr/local/lib/python3.7/dist-packages (from tensorflow~=1.13.0->rasa_core) (0.4.0)\n",
            "Requirement already satisfied: h5py in /usr/local/lib/python3.7/dist-packages (from keras-applications>=1.0.6->tensorflow~=1.13.0->rasa_core) (2.10.0)\n",
            "Requirement already satisfied: markdown>=2.6.8 in /usr/local/lib/python3.7/dist-packages (from tensorboard<1.14.0,>=1.13.0->tensorflow~=1.13.0->rasa_core) (3.3.4)\n",
            "Requirement already satisfied: mock>=2.0.0 in /usr/local/lib/python3.7/dist-packages (from tensorflow-estimator<1.14.0rc0,>=1.13.0->tensorflow~=1.13.0->rasa_core) (4.0.3)\n",
            "Requirement already satisfied: zope.interface>=4.4.2 in /usr/local/lib/python3.7/dist-packages (from Twisted>=15.5->klein~=17.10->rasa-nlu~=0.15->rasa_core) (5.4.0)\n",
            "Requirement already satisfied: Automat>=0.8.0 in /usr/local/lib/python3.7/dist-packages (from Twisted>=15.5->klein~=17.10->rasa-nlu~=0.15->rasa_core) (20.2.0)\n",
            "Requirement already satisfied: attrs>=19.2.0 in /usr/local/lib/python3.7/dist-packages (from Twisted>=15.5->klein~=17.10->rasa-nlu~=0.15->rasa_core) (21.2.0)\n",
            "Requirement already satisfied: hyperlink>=17.1.1 in /usr/local/lib/python3.7/dist-packages (from Twisted>=15.5->klein~=17.10->rasa-nlu~=0.15->rasa_core) (21.0.0)\n",
            "Requirement already satisfied: constantly>=15.1 in /usr/local/lib/python3.7/dist-packages (from Twisted>=15.5->klein~=17.10->rasa-nlu~=0.15->rasa_core) (15.1.0)\n",
            "Requirement already satisfied: typing-extensions>=3.6.5 in /usr/local/lib/python3.7/dist-packages (from Twisted>=15.5->klein~=17.10->rasa-nlu~=0.15->rasa_core) (3.10.0.2)\n",
            "Requirement already satisfied: pytz-deprecation-shim in /usr/local/lib/python3.7/dist-packages (from tzlocal!=3.*,>=2.0->apscheduler~=3.0->rasa_core) (0.1.0.post0)\n",
            "Requirement already satisfied: backports.zoneinfo in /usr/local/lib/python3.7/dist-packages (from tzlocal!=3.*,>=2.0->apscheduler~=3.0->rasa_core) (0.2.1)\n",
            "Requirement already satisfied: requests-toolbelt in /usr/local/lib/python3.7/dist-packages (from webexteamssdk~=1.0->rasa_core) (0.9.1)\n",
            "Requirement already satisfied: cffi>=1.12 in /usr/local/lib/python3.7/dist-packages (from cryptography->python-telegram-bot~=11.0->rasa_core) (1.15.0)\n",
            "Requirement already satisfied: pycparser in /usr/local/lib/python3.7/dist-packages (from cffi>=1.12->cryptography->python-telegram-bot~=11.0->rasa_core) (2.21)\n",
            "Requirement already satisfied: zipp>=0.5 in /usr/local/lib/python3.7/dist-packages (from importlib-metadata->jsonpickle~=1.0->rasa_core) (3.6.0)\n",
            "Requirement already satisfied: tzdata in /usr/local/lib/python3.7/dist-packages (from pytz-deprecation-shim->tzlocal!=3.*,>=2.0->apscheduler~=3.0->rasa_core) (2021.5)\n"
          ]
        }
      ]
    },
    {
      "cell_type": "code",
      "metadata": {
        "colab": {
          "base_uri": "https://localhost:8080/"
        },
        "id": "na7dvpL2tuuc",
        "outputId": "99aeff6a-561e-452d-9a57-6a6647b78849"
      },
      "source": [
        "pip install -U ipython #restart runtime after installation and rerun previous cells."
      ],
      "execution_count": null,
      "outputs": [
        {
          "output_type": "stream",
          "name": "stdout",
          "text": [
            "Requirement already satisfied: ipython in /usr/local/lib/python3.7/dist-packages (7.29.0)\n",
            "Requirement already satisfied: traitlets>=4.2 in /usr/local/lib/python3.7/dist-packages (from ipython) (5.1.1)\n",
            "Requirement already satisfied: decorator in /usr/local/lib/python3.7/dist-packages (from ipython) (4.4.2)\n",
            "Requirement already satisfied: pygments in /usr/local/lib/python3.7/dist-packages (from ipython) (2.6.1)\n",
            "Requirement already satisfied: jedi>=0.16 in /usr/local/lib/python3.7/dist-packages (from ipython) (0.18.0)\n",
            "Requirement already satisfied: matplotlib-inline in /usr/local/lib/python3.7/dist-packages (from ipython) (0.1.3)\n",
            "Requirement already satisfied: pexpect>4.3 in /usr/local/lib/python3.7/dist-packages (from ipython) (4.8.0)\n",
            "Requirement already satisfied: setuptools>=18.5 in /usr/local/lib/python3.7/dist-packages (from ipython) (57.4.0)\n",
            "Requirement already satisfied: backcall in /usr/local/lib/python3.7/dist-packages (from ipython) (0.2.0)\n",
            "Requirement already satisfied: prompt-toolkit!=3.0.0,!=3.0.1,<3.1.0,>=2.0.0 in /usr/local/lib/python3.7/dist-packages (from ipython) (3.0.22)\n",
            "Requirement already satisfied: pickleshare in /usr/local/lib/python3.7/dist-packages (from ipython) (0.7.5)\n",
            "Requirement already satisfied: parso<0.9.0,>=0.8.0 in /usr/local/lib/python3.7/dist-packages (from jedi>=0.16->ipython) (0.8.2)\n",
            "Requirement already satisfied: ptyprocess>=0.5 in /usr/local/lib/python3.7/dist-packages (from pexpect>4.3->ipython) (0.7.0)\n",
            "Requirement already satisfied: wcwidth in /usr/local/lib/python3.7/dist-packages (from prompt-toolkit!=3.0.0,!=3.0.1,<3.1.0,>=2.0.0->ipython) (0.2.5)\n"
          ]
        }
      ]
    },
    {
      "cell_type": "markdown",
      "metadata": {
        "id": "5dKOnShnQgmX"
      },
      "source": [
        "Import rasa_core, rasa_nlu spacy and sys\n",
        "\n"
      ]
    },
    {
      "cell_type": "code",
      "metadata": {
        "id": "9Fe3sBaQTTl2"
      },
      "source": [
        "import rasa_core\n",
        "import rasa_nlu\n",
        "import spacy"
      ],
      "execution_count": null,
      "outputs": []
    },
    {
      "cell_type": "code",
      "metadata": {
        "id": "s6t_iVs3bMHt"
      },
      "source": [
        "import sys\n",
        "python = sys.executable"
      ],
      "execution_count": null,
      "outputs": []
    },
    {
      "cell_type": "markdown",
      "metadata": {
        "id": "NT2yPS2GQsjh"
      },
      "source": [
        "download en_core_web_md, a medium-sized english model trained on written web text."
      ]
    },
    {
      "cell_type": "code",
      "metadata": {
        "colab": {
          "base_uri": "https://localhost:8080/"
        },
        "id": "dlAxEnncnXCB",
        "outputId": "dde691f2-5000-440a-9d34-69bc6cbe5368"
      },
      "source": [
        "!python -m spacy download en_core_web_md"
      ],
      "execution_count": null,
      "outputs": [
        {
          "output_type": "stream",
          "name": "stdout",
          "text": [
            "Collecting en_core_web_md==2.0.0\n",
            "  Downloading https://github.com/explosion/spacy-models/releases/download/en_core_web_md-2.0.0/en_core_web_md-2.0.0.tar.gz (120.8 MB)\n",
            "\u001b[K     |████████████████████████████████| 120.8 MB 1.4 MB/s \n",
            "\u001b[?25h\n",
            "\u001b[93m    Linking successful\u001b[0m\n",
            "    /usr/local/lib/python3.7/dist-packages/en_core_web_md -->\n",
            "    /usr/local/lib/python3.7/dist-packages/spacy/data/en_core_web_md\n",
            "\n",
            "    You can now load the model via spacy.load('en_core_web_md')\n",
            "\n"
          ]
        }
      ]
    },
    {
      "cell_type": "markdown",
      "metadata": {
        "id": "PWiAfbaWRdUz"
      },
      "source": [
        "Declearation of intent and sample words/phrases/sentences which refer to the intention decleared, which will be stored inside nlu.md. In other words, these are sample phrases whcih the chatbot will learn from for each intent."
      ]
    },
    {
      "cell_type": "code",
      "metadata": {
        "colab": {
          "base_uri": "https://localhost:8080/"
        },
        "id": "nOjwGdZLndBN",
        "outputId": "a9d63fa4-2430-42bf-8d39-1e2549a1a34a"
      },
      "source": [
        "# Writing various intents with examples to nlu.md file\n",
        "\n",
        "nlu_md = \"\"\"\n",
        "## intent:greet\n",
        "- hey\n",
        "- hello\n",
        "- hi\n",
        "- good morning\n",
        "- good evening\n",
        "- hey there\n",
        "\n",
        "## intent:goodbye\n",
        "- bye\n",
        "- goodbye\n",
        "- see you around\n",
        "- see you later\n",
        "\n",
        "## intent:affirm\n",
        "- yes\n",
        "- indeed\n",
        "- of course\n",
        "- that sounds good\n",
        "- correct\n",
        "\n",
        "## intent:deny\n",
        "- no\n",
        "- never\n",
        "- I don't think so\n",
        "- don't like that\n",
        "- no way\n",
        "- not really\n",
        "\n",
        "## intent:mood_great\n",
        "- perfect\n",
        "- very good\n",
        "- great\n",
        "- amazing\n",
        "- wonderful\n",
        "- I am feeling very good\n",
        "- I am great\n",
        "- I'm good\n",
        "\n",
        "## intent:mood_unhappy\n",
        "- sad\n",
        "- very sad\n",
        "- unhappy\n",
        "- bad\n",
        "- very bad\n",
        "- awful\n",
        "- terrible\n",
        "- not very good\n",
        "- extremely sad\n",
        "- so sad\n",
        "\n",
        "## intent:bot_challenge\n",
        "- are you a bot?\n",
        "- are you a human?\n",
        "- am I talking to a bot?\n",
        "- am I talking to a human?\n",
        "\n",
        "## intent:movie_match_year\n",
        "- what were the movies made in 2018?\n",
        "- what were the movies made in 1980?\n",
        "- what were the movies made in 1995?\n",
        "- what were the movies made in 1990?\n",
        "- what were the movies made in 2005?\n",
        "- what movies have been released in 2018?\n",
        "- what movies have been released in 1990?\n",
        "- what movies have been released in 2000?\n",
        "\n",
        "## synonym:movies\n",
        "- films\n",
        "\n",
        "## regex:rating\n",
        "- top \\b[0-9]+\\b\n",
        "\n",
        "##synonym:made\n",
        "- released\n",
        "- filmed\n",
        "- produced\n",
        "- created\n",
        "- formed\n",
        "\n",
        "##intent:get_year_by_movie_title\n",
        "- when was released [the godfather](movie_title)?\n",
        "- when was released [star wars](movie_title)?\n",
        "- when was released [fight club](movie_title)?\n",
        "- when was released [interstellar](movie_title)?\n",
        "- when was released [inception](movie_title)?\n",
        "- what year did [miss jerry](movie_title) come out?\n",
        "\n",
        "##lookup:movie_title\n",
        "- the shawshank redemption\n",
        "- the dark knight\n",
        "- inception\n",
        "- fight club\n",
        "- pulp fiction\n",
        "- forrest gump\n",
        "- the matrix\n",
        "- the lord of the rings: the fellowship of the ring\n",
        "- the lord of the rings: the return of the king\n",
        "- the godfather\n",
        "- the dark knight rises\n",
        "- the lord of the rings: the two towers\n",
        "- interstellar\n",
        "- se7en\n",
        "- gladiator\n",
        "- django unchained\n",
        "- the avengers\n",
        "- batman begins\n",
        "- the silence of the lambs\n",
        "- inglourious basterds\n",
        "- star wars\n",
        "- saving private ryan\n",
        "- schindler's list\n",
        "- the departed\n",
        "- the prestige\n",
        "- star wars: episode v - the empire strikes back\n",
        "\n",
        "##intent:movie_match_several_criteria\n",
        "- do you have any movie from last year with [awesome special effect](movie_attribute)?\n",
        "- do you have any movie from two years ago with [awesome special effect](movie_attribute)?\n",
        "- do you have any movie from three years ago with [awesome special effect](movie_attribute)?\n",
        "- tell me [drama](genre) movie that [people love for the love story](movie_attribute)\n",
        "- tell me movies that have [incredible landscapes and nature scenes](movie_attribute)\n",
        "- what films do you have that include [space travel and aliens](movie_attribute)?\n",
        "- tell me movies that have [awesome special effect](movie_attribute)\n",
        "- tell me movies that have [no special effect](movie_attribute)\n",
        "- tell me movies that have [cats and dogs](movie_attribute)\n",
        "\n",
        "##lookup:movie_attribute\n",
        "- awesome special effect\n",
        "- no special effect\n",
        "- people love for the love story\n",
        "- incredible landscapes and nature scenes\n",
        "- space travel and aliens\n",
        "- cats and dogs\n",
        "- a lot of blood and war\n",
        "- super hero\n",
        "- based on a true story\n",
        "\"\"\"\n",
        "\n",
        "\n",
        "%store nlu_md >nlu.md"
      ],
      "execution_count": null,
      "outputs": [
        {
          "output_type": "stream",
          "name": "stdout",
          "text": [
            "Writing 'nlu_md' (str) to file 'nlu.md'.\n"
          ]
        }
      ]
    },
    {
      "cell_type": "markdown",
      "metadata": {
        "id": "ovpaAACTSSTY"
      },
      "source": [
        "Setting up our configuration for our pipeline and policies"
      ]
    },
    {
      "cell_type": "code",
      "metadata": {
        "colab": {
          "base_uri": "https://localhost:8080/"
        },
        "id": "wmfWtkbsuZ0i",
        "outputId": "c9cbab93-3005-425e-e31f-d26fb2fce4e3"
      },
      "source": [
        "# Adding the NLU components to the pipeline in config.yml file\n",
        "config = \"\"\"\n",
        "language: \"en_core_web_md\"\n",
        "\n",
        "pipeline:\n",
        "- name: \"nlp_spacy\"                   # loads the spacy language model\n",
        "- name: \"tokenizer_spacy\"             # splits the sentence into tokens\n",
        "- name: \"ner_crf\"                     # uses the pretrained spacy NER model\n",
        "- name: \"intent_featurizer_spacy\"     # transform the sentence into a vector representation\n",
        "- name: \"intent_classifier_sklearn\"   # uses the vector representation to classify using SVM\n",
        "- name: \"ner_synonyms\"                # trains the synonyms\n",
        "\n",
        "policies:\n",
        "- name: \"RulePolicy\"\n",
        "  # Confidence threshold for the `core_fallback_action_name` to apply.\n",
        "  # The action will apply if no other action was predicted with\n",
        "  # a confidence >= core_fallback_threshold\n",
        "  core_fallback_threshold: 0.68\n",
        "  core_fallback_action_name: \"action_default_fallback\"\n",
        "  enable_fallback_prediction: True\n",
        "\n",
        "\n",
        "\"\"\" \n",
        "\n",
        "%store config >config.yml"
      ],
      "execution_count": null,
      "outputs": [
        {
          "output_type": "stream",
          "name": "stdout",
          "text": [
            "Writing 'config' (str) to file 'config.yml'.\n"
          ]
        }
      ]
    },
    {
      "cell_type": "markdown",
      "metadata": {
        "id": "LqYxBhUyrsar"
      },
      "source": [
        "# Training the model\n",
        "Import the load_data and config modules so as to load the training data file and config file respectiely, which would be fed to the Trainer module to train the model."
      ]
    },
    {
      "cell_type": "code",
      "metadata": {
        "colab": {
          "base_uri": "https://localhost:8080/"
        },
        "id": "-6kTAyc_wjrI",
        "outputId": "5759a8d2-7985-45d7-a9eb-9966e2de9c4f"
      },
      "source": [
        "# Import modules for training\n",
        "from rasa_nlu.training_data import load_data\n",
        "from rasa_nlu.config import RasaNLUModelConfig\n",
        "from rasa_nlu.model import Trainer\n",
        "from rasa_nlu import config\n",
        "\n",
        "# loading the nlu training samples\n",
        "training_data = load_data(\"nlu.md\")\n",
        "trainer = Trainer(config.load(\"config.yml\"))\n",
        "\n",
        "# training the nlu\n",
        "interpreter = trainer.train(training_data)\n",
        "model_directory = trainer.persist(\"./models/nlu\", fixed_model_name=\"current\")"
      ],
      "execution_count": null,
      "outputs": [
        {
          "output_type": "stream",
          "name": "stderr",
          "text": [
            "/usr/local/lib/python3.7/dist-packages/rasa_nlu/training_data/training_data.py:184: UserWarning: Entity 'genre' has only 1 training examples! minimum is 2, training may fail.\n",
            "  self.MIN_EXAMPLES_PER_ENTITY))\n"
          ]
        },
        {
          "output_type": "stream",
          "name": "stdout",
          "text": [
            "Fitting 2 folds for each of 6 candidates, totalling 12 fits\n"
          ]
        },
        {
          "output_type": "stream",
          "name": "stderr",
          "text": [
            "[Parallel(n_jobs=1)]: Using backend SequentialBackend with 1 concurrent workers.\n",
            "/usr/local/lib/python3.7/dist-packages/sklearn/metrics/classification.py:1143: UndefinedMetricWarning: F-score is ill-defined and being set to 0.0 in labels with no predicted samples.\n",
            "  'precision', 'predicted', average, warn_for)\n",
            "/usr/local/lib/python3.7/dist-packages/sklearn/metrics/classification.py:1143: UndefinedMetricWarning: F-score is ill-defined and being set to 0.0 in labels with no predicted samples.\n",
            "  'precision', 'predicted', average, warn_for)\n",
            "/usr/local/lib/python3.7/dist-packages/sklearn/metrics/classification.py:1143: UndefinedMetricWarning: F-score is ill-defined and being set to 0.0 in labels with no predicted samples.\n",
            "  'precision', 'predicted', average, warn_for)\n",
            "/usr/local/lib/python3.7/dist-packages/sklearn/metrics/classification.py:1143: UndefinedMetricWarning: F-score is ill-defined and being set to 0.0 in labels with no predicted samples.\n",
            "  'precision', 'predicted', average, warn_for)\n",
            "/usr/local/lib/python3.7/dist-packages/sklearn/metrics/classification.py:1143: UndefinedMetricWarning: F-score is ill-defined and being set to 0.0 in labels with no predicted samples.\n",
            "  'precision', 'predicted', average, warn_for)\n",
            "/usr/local/lib/python3.7/dist-packages/sklearn/metrics/classification.py:1143: UndefinedMetricWarning: F-score is ill-defined and being set to 0.0 in labels with no predicted samples.\n",
            "  'precision', 'predicted', average, warn_for)\n",
            "/usr/local/lib/python3.7/dist-packages/sklearn/metrics/classification.py:1143: UndefinedMetricWarning: F-score is ill-defined and being set to 0.0 in labels with no predicted samples.\n",
            "  'precision', 'predicted', average, warn_for)\n",
            "/usr/local/lib/python3.7/dist-packages/sklearn/metrics/classification.py:1143: UndefinedMetricWarning: F-score is ill-defined and being set to 0.0 in labels with no predicted samples.\n",
            "  'precision', 'predicted', average, warn_for)\n",
            "/usr/local/lib/python3.7/dist-packages/sklearn/metrics/classification.py:1143: UndefinedMetricWarning: F-score is ill-defined and being set to 0.0 in labels with no predicted samples.\n",
            "  'precision', 'predicted', average, warn_for)\n",
            "/usr/local/lib/python3.7/dist-packages/sklearn/metrics/classification.py:1143: UndefinedMetricWarning: F-score is ill-defined and being set to 0.0 in labels with no predicted samples.\n",
            "  'precision', 'predicted', average, warn_for)\n",
            "/usr/local/lib/python3.7/dist-packages/sklearn/metrics/classification.py:1143: UndefinedMetricWarning: F-score is ill-defined and being set to 0.0 in labels with no predicted samples.\n",
            "  'precision', 'predicted', average, warn_for)\n",
            "/usr/local/lib/python3.7/dist-packages/sklearn/metrics/classification.py:1143: UndefinedMetricWarning: F-score is ill-defined and being set to 0.0 in labels with no predicted samples.\n",
            "  'precision', 'predicted', average, warn_for)\n",
            "[Parallel(n_jobs=1)]: Done  12 out of  12 | elapsed:    0.2s finished\n"
          ]
        }
      ]
    },
    {
      "cell_type": "markdown",
      "metadata": {
        "id": "y2FilhqAr74r"
      },
      "source": [
        "Testing our model.\n",
        "The aim is to see how well it can predict intents, this would be then use to determind the appropriate response."
      ]
    },
    {
      "cell_type": "code",
      "metadata": {
        "colab": {
          "base_uri": "https://localhost:8080/"
        },
        "id": "McY2G4Gjwp3T",
        "outputId": "98767424-16db-4268-a49b-f2a495502af6"
      },
      "source": [
        " # Testing the NLU model with an input message\n",
        "\n",
        "import json\n",
        "def pprint(o):   \n",
        "    print(json.dumps(o, indent=2))\n",
        "\n",
        "pprint(interpreter.parse(\"x\"))"
      ],
      "execution_count": null,
      "outputs": [
        {
          "output_type": "stream",
          "name": "stdout",
          "text": [
            "{\n",
            "  \"intent\": {\n",
            "    \"name\": \"get_rating_by_movie_title\",\n",
            "    \"confidence\": 0.45100947442706885\n",
            "  },\n",
            "  \"entities\": [],\n",
            "  \"intent_ranking\": [\n",
            "    {\n",
            "      \"name\": \"get_rating_by_movie_title\",\n",
            "      \"confidence\": 0.45100947442706885\n",
            "    },\n",
            "    {\n",
            "      \"name\": \"bot_challenge\",\n",
            "      \"confidence\": 0.12219982193006196\n",
            "    },\n",
            "    {\n",
            "      \"name\": \"movie_match_several_criteria\",\n",
            "      \"confidence\": 0.08845532252536374\n",
            "    },\n",
            "    {\n",
            "      \"name\": \"get_year_by_movie_title\",\n",
            "      \"confidence\": 0.07743052070803512\n",
            "    },\n",
            "    {\n",
            "      \"name\": \"movie_match_year\",\n",
            "      \"confidence\": 0.0696327189968297\n",
            "    },\n",
            "    {\n",
            "      \"name\": \"mood_great\",\n",
            "      \"confidence\": 0.046400707897303196\n",
            "    },\n",
            "    {\n",
            "      \"name\": \"get_genre_by_movie_title\",\n",
            "      \"confidence\": 0.04519555946848949\n",
            "    },\n",
            "    {\n",
            "      \"name\": \"goodbye\",\n",
            "      \"confidence\": 0.03736394018575891\n",
            "    },\n",
            "    {\n",
            "      \"name\": \"affirm\",\n",
            "      \"confidence\": 0.019958409984586353\n",
            "    },\n",
            "    {\n",
            "      \"name\": \"greet\",\n",
            "      \"confidence\": 0.01810636798307734\n",
            "    }\n",
            "  ],\n",
            "  \"text\": \"x\"\n",
            "}\n"
          ]
        }
      ]
    },
    {
      "cell_type": "markdown",
      "metadata": {
        "id": "TGZycj1ZtBvM"
      },
      "source": [
        "This is the second part of the project where we would be dealing with stories, actions and templates so our bot can respond to queries appropriately. Stories is a path which countains intents and their respective actions to be taken.\n",
        "Actions are the the responses we want our bot to give after identifying intent.\n",
        "Templates are where we store all the actions.\n",
        "Slots are our bots memories which help it keep track of events."
      ]
    },
    {
      "cell_type": "code",
      "metadata": {
        "colab": {
          "base_uri": "https://localhost:8080/"
        },
        "id": "RXw_5ojnxLl4",
        "outputId": "4851778a-e8f8-4cc6-fca3-d59dab5986e6"
      },
      "source": [
        "# Writing stories and saving it in the stories.md file\n",
        "\n",
        "stories_md = \"\"\"\n",
        "## happy path\n",
        "* greet\n",
        "  - utter_greet\n",
        "* mood_great\n",
        "  - utter_happy\n",
        "\n",
        "## sad path 1\n",
        "* greet\n",
        "  - utter_greet\n",
        "* mood_unhappy\n",
        "  - utter_cheer_up\n",
        "  - utter_did_that_help\n",
        "* affirm\n",
        "  - utter_happy\n",
        "\n",
        "## sad path 2\n",
        "* greet\n",
        "  - utter_greet\n",
        "* mood_unhappy\n",
        "  - utter_cheer_up\n",
        "  - utter_did_that_help\n",
        "* deny\n",
        "  - utter_goodbye\n",
        "\n",
        "## say goodbye\n",
        "* goodbye\n",
        "  - utter_goodbye\n",
        "\n",
        "## bot challenge\n",
        "* bot_challenge\n",
        "  - utter_iamabot\n",
        "\n",
        "## search movie by title\n",
        "* movie_match_title\n",
        "    - slot{\"title\": \"Avengers\"}\n",
        "    - action_match_title_search_movie    \n",
        "\n",
        "## search movie by year\n",
        "* movie_match_year\n",
        "    - slot{\"time\": \"1995\"}\n",
        "    - action_match_year_search_movie\n",
        "\n",
        "## search year with movie title\n",
        "* get_year_by_movie_title\n",
        "   - slot{\"movie_title\": \"joker\"}\n",
        "   - action_get_year_by_movie_title\n",
        "   \n",
        "## search rating with movie title\n",
        "* get_rating_by_movie_title\n",
        "   - slot{\"movie_title\": \"joker\"}\n",
        "   - action_get_rating_by_movie_title\n",
        "   \n",
        "   \n",
        "##search for movies based on its attributes\n",
        "* movie_match_several_criteria\n",
        "    - slot{\"movie_attribute\": \"cats and dogs\"}\n",
        "    - action_get_movie_based_attribute\n",
        "\n",
        "\"\"\"\n",
        "\n",
        "%store stories_md >stories.md"
      ],
      "execution_count": null,
      "outputs": [
        {
          "output_type": "stream",
          "name": "stdout",
          "text": [
            "Writing 'stories_md' (str) to file 'stories.md'.\n"
          ]
        }
      ]
    },
    {
      "cell_type": "markdown",
      "metadata": {
        "id": "BEqlG5lCTKJn"
      },
      "source": [
        "The domain is where we link together all our files for the chatbot. The uttar_default action is he action to be taken when the confidence value of all possible intentions is below the thereshold value set inn our configuration file under the fallback policy."
      ]
    },
    {
      "cell_type": "code",
      "metadata": {
        "colab": {
          "base_uri": "https://localhost:8080/"
        },
        "id": "0AT7yIyMNtMe",
        "outputId": "b32556fe-3b5d-440a-931a-bb3e5230a3eb"
      },
      "source": [
        "# Writing all the intents,slots,entities,actions and templates to domain.yml\n",
        "\n",
        "domain_yml = \"\"\"\n",
        "intents:\n",
        "  - greet\n",
        "  - goodbye\n",
        "  - affirm\n",
        "  - deny\n",
        "  - mood_great\n",
        "  - mood_unhappy\n",
        "  - bot_challenge\n",
        "  - movie_match_title\n",
        "  - movie_match_year\n",
        "  - movie_match_several_criteria\n",
        "  - get_year_by_movie_title\n",
        "  - get_rating_by_movie_title\n",
        "entities:\n",
        "- rating\n",
        "- movie_title\n",
        "- time\n",
        "- movie_attribute\n",
        "slots:\n",
        "  movie_attribute:\n",
        "    type: text\n",
        "  movie_title:\n",
        "    type: text\n",
        "  rating:\n",
        "    type: text\n",
        "  time:\n",
        "    type: text\n",
        "templates:\n",
        "  utter_greet:\n",
        "    - text: Hey! How are you?\n",
        "  utter_cheer_up:\n",
        "    - text: 'Here is something to cheer you up:'\n",
        "      image: https://i.imgur.com/nGF1K8f.jpg\n",
        "  utter_did_that_help:\n",
        "    - text: Did that help you?\n",
        "  utter_happy:\n",
        "    - text: Great, carry on!\n",
        "  utter_goodbye:\n",
        "    - text: Bye\n",
        "  utter_iamabot:\n",
        "    - text: I am a bot, powered by Rasa.\n",
        "  utter_default:\n",
        "    - text: sorry, I didn't get that, can you rephrase it?\n",
        "  utter_ask_time:\n",
        "    - text: What is the year?\n",
        "  utter_ask_rating:\n",
        "    - text: What is the rating?\n",
        "  utter_ask_movie_title:\n",
        "    - text: What is the title of the movie?\n",
        "  utter_ask_movie_attribute:\n",
        "    - text: What is the attributes of the movie?\n",
        "  utter_movie_match_title_result:\n",
        "    - text: 'Finding movies of this Title: {movie_title}'\n",
        "  utter_movie_match_year_result:\n",
        "    - text: 'Finding movies of this Year: {time}'\n",
        "  utter_movie_match_attr_result:\n",
        "    - text: 'Finding movies with the Attributes: {movie_attribute}'\n",
        "actions:\n",
        "  - utter_greet\n",
        "  - utter_cheer_up\n",
        "  - utter_did_that_help\n",
        "  - utter_happy\n",
        "  - utter_goodbye\n",
        "  - utter_iamabot\n",
        "  - utter_default\n",
        "  - utter_ask_time\n",
        "  - utter_ask_rating\n",
        "  - utter_ask_movie_title\n",
        "  - utter_ask_movie_attribute\n",
        "  - utter_movie_match_title_result  \n",
        "  - utter_movie_match_year_result\n",
        "  - action_match_title_search_movie \n",
        "  - action_match_year_search_movie\n",
        "  - action_get_year_by_movie_title\n",
        "  - action_get_rating_by_movie_title\n",
        "  - action_get_movie_based_attribute\n",
        " \n",
        "\"\"\"\n",
        "\n",
        "%store domain_yml >domain.yml"
      ],
      "execution_count": null,
      "outputs": [
        {
          "output_type": "stream",
          "name": "stdout",
          "text": [
            "Writing 'domain_yml' (str) to file 'domain.yml'.\n"
          ]
        }
      ]
    },
    {
      "cell_type": "markdown",
      "metadata": {
        "id": "_Ho7iCP-UVTS"
      },
      "source": [
        "Here we import our policies and the Agent module. The Agent module is used to load the file, and passed to the 'agent' model. The 'agent' model is in turn trained with the data in the stories file."
      ]
    },
    {
      "cell_type": "code",
      "metadata": {
        "id": "EZM3Vh7BRp6d"
      },
      "source": [
        "from rasa_core.actions import Action\n",
        "from rasa_core.events import SlotSet\n",
        "from IPython.core.display import Image, display\n",
        "import urllib.parse\n",
        "\n",
        "import requests\n",
        "\n",
        "class ActionTitleMovieSearch(Action):\n",
        "    def name(self):\n",
        "        return \"action_match_title_search_movie\"\n",
        "\n",
        "    def run(self, dispatcher, tracker, domain):\n",
        "        \n",
        "        title = tracker.get_slot(\"movie_title\")\n",
        "        safe_string = urllib.parse.quote_plus(title)\n",
        "        r = requests.get(\"https://api.themoviedb.org/3/movie/550?api_key=ca8bdd9ef366d6cafb5ead8425e5efd4&language=en-US&query={}&page=1&include_adult=false\".format(safe_string))\n",
        "        res = r.json()\n",
        "        dispatcher.utter_message(response = \"utter_movie_match_title_result\", movie_title = title)\n",
        "        dispatcher.utter_message(res)\n",
        "\n",
        "class ActionYearMovieSearch(Action):\n",
        "    def name(self):\n",
        "        return \"action_match_year_search_movie\"\n",
        "\n",
        "    def run(self, dispatcher, tracker, domain):\n",
        "        \n",
        "        year = tracker.get_slot(\"time\")\n",
        "        r = requests.get(\"https://api.themoviedb.org/3/search/movie?api_key=ca8bdd9ef366d6cafb5ead8425e5efd4&language=en-US&query=a&page=1&include_adult=false&year={}\".format(str(year)))\n",
        "        res = r.json()\n",
        "        dispatcher.utter_message(response = \"utter_movie_match_year_result\", time = year)\n",
        "        dispatcher.utter_message(res)\n",
        "\n",
        "class ActionYearTitleSearch(Action):\n",
        "    def name(self):\n",
        "        return \"action_get_year_by_movie_title\"\n",
        "\n",
        "    def run(self, dispatcher, tracker, domain):\n",
        "        \n",
        "        title = tracker.get_slot(\"movie_title\")\n",
        "        safe_string = urllib.parse.quote_plus(title)\n",
        "        r = requests.get(\"https://api.themoviedb.org/3/movie/550?api_key=ca8bdd9ef366d6cafb5ead8425e5efd4&language=en-US&query={}&page=1&include_adult=false\".format(safe_string))\n",
        "        res = r.json()\n",
        "        dispatcher.utter_message(res[\"results\"][0][\"release_date\"])\n",
        "\n",
        "class ActionRatingTitleSearch(Action):\n",
        "    def name(self):\n",
        "        return \"action_get_rating_by_movie_title\"\n",
        "\n",
        "    def run(self, dispatcher, tracker, domain):\n",
        "        \n",
        "        title = tracker.get_slot(\"movie_title\")\n",
        "        safe_string = urllib.parse.quote_plus(title)\n",
        "        r = requests.get(\"https://api.themoviedb.org/3/movie/550?api_key=ca8bdd9ef366d6cafb5ead8425e5efd4&language=en-US&query={}&page=1&include_adult=false\".format(safe_string))\n",
        "        res = r.json()\n",
        "        dispatcher.utter_message(res[\"results\"][0][\"vote_average\"])\n",
        "\n",
        "class ActionAttrMovieSearch(Action):\n",
        "    def name(self):\n",
        "        return \"action_get_movie_based_attribute\"\n",
        "\n",
        "    def run(self, dispatcher, tracker, domain):\n",
        "        \n",
        "        attr = tracker.get_slot(\"movie_attribute\")\n",
        "        safe_string = urllib.parse.quote_plus(attr)\n",
        "        r = requests.get(\"https://api.themoviedb.org/3/movie/550?api_key=ca8bdd9ef366d6cafb5ead8425e5efd4&language=en-US&query={}&page=1&include_adult=false\".format(safe_string))\n",
        "        res = r.json()\n",
        "        dispatcher.utter_message(response = \"utter_movie_match_title_result\", movie_attribute = attr)\n",
        "        dispatcher.utter_message(res)"
      ],
      "execution_count": null,
      "outputs": []
    },
    {
      "cell_type": "code",
      "metadata": {
        "colab": {
          "base_uri": "https://localhost:8080/"
        },
        "id": "IftpE7U9Nybn",
        "outputId": "a4278f89-a93d-440d-cdd4-6ebf07cf4f0f"
      },
      "source": [
        "# Import the policies and agent\n",
        "from rasa_core.policies import FallbackPolicy, MemoizationPolicy,KerasPolicy\n",
        "from rasa_core.agent import Agent\n",
        "\n",
        "# Initialize the model with `domain.yml`\n",
        "agent = Agent('domain.yml', policies=[MemoizationPolicy(), KerasPolicy(), ])\n",
        "\n",
        "# loading our  training dialogues from `stories.md` \n",
        "training_data = agent.load_data('stories.md')\n",
        "\n",
        "\n",
        "# Training the model\n",
        "agent.train(\n",
        "    training_data)\n",
        "    #validation_split=0.0,\n",
        "    #epochs=200)\n",
        "\n",
        "agent.persist('models/dialogue')"
      ],
      "execution_count": null,
      "outputs": [
        {
          "output_type": "stream",
          "name": "stderr",
          "text": [
            "Processed Story Blocks: 100%|██████████| 10/10 [00:00<00:00, 378.39it/s, # trackers=1]\n",
            "Processed Story Blocks: 100%|██████████| 10/10 [00:00<00:00, 146.52it/s, # trackers=10]\n",
            "Processed Story Blocks: 100%|██████████| 10/10 [00:00<00:00, 125.72it/s, # trackers=18]\n",
            "Processed Story Blocks: 100%|██████████| 10/10 [00:00<00:00, 116.80it/s, # trackers=17]\n",
            "Processed actions: 26it [00:00, 335.35it/s, # examples=26]\n"
          ]
        },
        {
          "output_type": "stream",
          "name": "stdout",
          "text": [
            "_________________________________________________________________\n",
            "Layer (type)                 Output Shape              Param #   \n",
            "=================================================================\n",
            "masking (Masking)            (None, 5, 46)             0         \n",
            "_________________________________________________________________\n",
            "lstm (LSTM)                  (None, 32)                10112     \n",
            "_________________________________________________________________\n",
            "dense (Dense)                (None, 26)                858       \n",
            "_________________________________________________________________\n",
            "activation (Activation)      (None, 26)                0         \n",
            "=================================================================\n",
            "Total params: 10,970\n",
            "Trainable params: 10,970\n",
            "Non-trainable params: 0\n",
            "_________________________________________________________________\n",
            "Epoch 1/100\n",
            "463/463 [==============================] - 1s 1ms/sample - loss: 3.1238 - acc: 0.2592\n",
            "Epoch 2/100\n",
            "463/463 [==============================] - 0s 194us/sample - loss: 2.8663 - acc: 0.4622\n",
            "Epoch 3/100\n",
            "463/463 [==============================] - 0s 191us/sample - loss: 2.4983 - acc: 0.4644\n",
            "Epoch 4/100\n",
            "463/463 [==============================] - 0s 222us/sample - loss: 2.1959 - acc: 0.4644\n",
            "Epoch 5/100\n",
            "463/463 [==============================] - 0s 218us/sample - loss: 2.0841 - acc: 0.4644\n",
            "Epoch 6/100\n",
            "463/463 [==============================] - 0s 195us/sample - loss: 2.0032 - acc: 0.4644\n",
            "Epoch 7/100\n",
            "463/463 [==============================] - 0s 211us/sample - loss: 1.9628 - acc: 0.4644\n",
            "Epoch 8/100\n",
            "463/463 [==============================] - 0s 218us/sample - loss: 1.9139 - acc: 0.4644\n",
            "Epoch 9/100\n",
            "463/463 [==============================] - 0s 189us/sample - loss: 1.8742 - acc: 0.4644\n",
            "Epoch 10/100\n",
            "463/463 [==============================] - 0s 198us/sample - loss: 1.8261 - acc: 0.4644\n",
            "Epoch 11/100\n",
            "463/463 [==============================] - 0s 189us/sample - loss: 1.7958 - acc: 0.4644\n",
            "Epoch 12/100\n",
            "463/463 [==============================] - 0s 226us/sample - loss: 1.7612 - acc: 0.4644\n",
            "Epoch 13/100\n",
            "463/463 [==============================] - 0s 200us/sample - loss: 1.7166 - acc: 0.4644\n",
            "Epoch 14/100\n",
            "463/463 [==============================] - 0s 218us/sample - loss: 1.6649 - acc: 0.4644\n",
            "Epoch 15/100\n",
            "463/463 [==============================] - 0s 220us/sample - loss: 1.6191 - acc: 0.4687\n",
            "Epoch 16/100\n",
            "463/463 [==============================] - 0s 210us/sample - loss: 1.5766 - acc: 0.4752\n",
            "Epoch 17/100\n",
            "463/463 [==============================] - 0s 197us/sample - loss: 1.5397 - acc: 0.4773\n",
            "Epoch 18/100\n",
            "463/463 [==============================] - 0s 209us/sample - loss: 1.4837 - acc: 0.4838\n",
            "Epoch 19/100\n",
            "463/463 [==============================] - 0s 202us/sample - loss: 1.4274 - acc: 0.5054\n",
            "Epoch 20/100\n",
            "463/463 [==============================] - 0s 191us/sample - loss: 1.3684 - acc: 0.5292\n",
            "Epoch 21/100\n",
            "463/463 [==============================] - 0s 199us/sample - loss: 1.3244 - acc: 0.5421\n",
            "Epoch 22/100\n",
            "463/463 [==============================] - 0s 184us/sample - loss: 1.2507 - acc: 0.5745\n",
            "Epoch 23/100\n",
            "463/463 [==============================] - 0s 199us/sample - loss: 1.2040 - acc: 0.5875\n",
            "Epoch 24/100\n",
            "463/463 [==============================] - 0s 211us/sample - loss: 1.1291 - acc: 0.6544\n",
            "Epoch 25/100\n",
            "463/463 [==============================] - 0s 210us/sample - loss: 1.0919 - acc: 0.7192\n",
            "Epoch 26/100\n",
            "463/463 [==============================] - 0s 213us/sample - loss: 1.0501 - acc: 0.7214\n",
            "Epoch 27/100\n",
            "463/463 [==============================] - 0s 199us/sample - loss: 1.0239 - acc: 0.7149\n",
            "Epoch 28/100\n",
            "463/463 [==============================] - 0s 200us/sample - loss: 0.9871 - acc: 0.7495\n",
            "Epoch 29/100\n",
            "463/463 [==============================] - 0s 211us/sample - loss: 0.9515 - acc: 0.7711\n",
            "Epoch 30/100\n",
            "463/463 [==============================] - 0s 206us/sample - loss: 0.9031 - acc: 0.7927\n",
            "Epoch 31/100\n",
            "463/463 [==============================] - 0s 207us/sample - loss: 0.8769 - acc: 0.8337\n",
            "Epoch 32/100\n",
            "463/463 [==============================] - 0s 199us/sample - loss: 0.8746 - acc: 0.8121\n",
            "Epoch 33/100\n",
            "463/463 [==============================] - 0s 206us/sample - loss: 0.8337 - acc: 0.8315\n",
            "Epoch 34/100\n",
            "463/463 [==============================] - 0s 205us/sample - loss: 0.7680 - acc: 0.8553\n",
            "Epoch 35/100\n",
            "463/463 [==============================] - 0s 184us/sample - loss: 0.7502 - acc: 0.8661\n",
            "Epoch 36/100\n",
            "463/463 [==============================] - 0s 212us/sample - loss: 0.7333 - acc: 0.8683\n",
            "Epoch 37/100\n",
            "463/463 [==============================] - 0s 217us/sample - loss: 0.7010 - acc: 0.8877\n",
            "Epoch 38/100\n",
            "463/463 [==============================] - 0s 198us/sample - loss: 0.6853 - acc: 0.8942\n",
            "Epoch 39/100\n",
            "463/463 [==============================] - 0s 200us/sample - loss: 0.6657 - acc: 0.9136\n",
            "Epoch 40/100\n",
            "463/463 [==============================] - 0s 197us/sample - loss: 0.6107 - acc: 0.9309\n",
            "Epoch 41/100\n",
            "463/463 [==============================] - 0s 193us/sample - loss: 0.6223 - acc: 0.9028\n",
            "Epoch 42/100\n",
            "463/463 [==============================] - 0s 203us/sample - loss: 0.6060 - acc: 0.9114\n",
            "Epoch 43/100\n",
            "463/463 [==============================] - 0s 230us/sample - loss: 0.5628 - acc: 0.9374\n",
            "Epoch 44/100\n",
            "463/463 [==============================] - 0s 219us/sample - loss: 0.5385 - acc: 0.9546\n",
            "Epoch 45/100\n",
            "463/463 [==============================] - 0s 191us/sample - loss: 0.5003 - acc: 0.9330\n",
            "Epoch 46/100\n",
            "463/463 [==============================] - 0s 185us/sample - loss: 0.4744 - acc: 0.9762\n",
            "Epoch 47/100\n",
            "463/463 [==============================] - 0s 202us/sample - loss: 0.4880 - acc: 0.9633\n",
            "Epoch 48/100\n",
            "463/463 [==============================] - 0s 198us/sample - loss: 0.4443 - acc: 0.9590\n",
            "Epoch 49/100\n",
            "463/463 [==============================] - 0s 193us/sample - loss: 0.3981 - acc: 0.9762\n",
            "Epoch 50/100\n",
            "463/463 [==============================] - 0s 198us/sample - loss: 0.4127 - acc: 0.9546\n",
            "Epoch 51/100\n",
            "463/463 [==============================] - 0s 193us/sample - loss: 0.3949 - acc: 0.9633\n",
            "Epoch 52/100\n",
            "463/463 [==============================] - 0s 198us/sample - loss: 0.3516 - acc: 0.9784\n",
            "Epoch 53/100\n",
            "463/463 [==============================] - 0s 212us/sample - loss: 0.3563 - acc: 0.9719\n",
            "Epoch 54/100\n",
            "463/463 [==============================] - 0s 203us/sample - loss: 0.3245 - acc: 0.9827\n",
            "Epoch 55/100\n",
            "463/463 [==============================] - 0s 201us/sample - loss: 0.3019 - acc: 0.9784\n",
            "Epoch 56/100\n",
            "463/463 [==============================] - 0s 191us/sample - loss: 0.2790 - acc: 0.9827\n",
            "Epoch 57/100\n",
            "463/463 [==============================] - 0s 209us/sample - loss: 0.2887 - acc: 0.9784\n",
            "Epoch 58/100\n",
            "463/463 [==============================] - 0s 206us/sample - loss: 0.2968 - acc: 0.9827\n",
            "Epoch 59/100\n",
            "463/463 [==============================] - 0s 197us/sample - loss: 0.2729 - acc: 0.9762\n",
            "Epoch 60/100\n",
            "463/463 [==============================] - 0s 202us/sample - loss: 0.2409 - acc: 0.9827\n",
            "Epoch 61/100\n",
            "463/463 [==============================] - 0s 212us/sample - loss: 0.2461 - acc: 0.9762\n",
            "Epoch 62/100\n",
            "463/463 [==============================] - 0s 194us/sample - loss: 0.2457 - acc: 0.9806\n",
            "Epoch 63/100\n",
            "463/463 [==============================] - 0s 204us/sample - loss: 0.2269 - acc: 0.9870\n",
            "Epoch 64/100\n",
            "463/463 [==============================] - 0s 191us/sample - loss: 0.2191 - acc: 0.9806\n",
            "Epoch 65/100\n",
            "463/463 [==============================] - 0s 219us/sample - loss: 0.2367 - acc: 0.9762\n",
            "Epoch 66/100\n",
            "463/463 [==============================] - 0s 191us/sample - loss: 0.1880 - acc: 0.9762\n",
            "Epoch 67/100\n",
            "463/463 [==============================] - 0s 195us/sample - loss: 0.1991 - acc: 0.9870\n",
            "Epoch 68/100\n",
            "463/463 [==============================] - 0s 205us/sample - loss: 0.1621 - acc: 0.9957\n",
            "Epoch 69/100\n",
            "463/463 [==============================] - 0s 206us/sample - loss: 0.1870 - acc: 0.9806\n",
            "Epoch 70/100\n",
            "463/463 [==============================] - 0s 192us/sample - loss: 0.1535 - acc: 0.9827\n",
            "Epoch 71/100\n",
            "463/463 [==============================] - 0s 212us/sample - loss: 0.1599 - acc: 0.9870\n",
            "Epoch 72/100\n",
            "463/463 [==============================] - 0s 200us/sample - loss: 0.1535 - acc: 0.9870\n",
            "Epoch 73/100\n",
            "463/463 [==============================] - 0s 195us/sample - loss: 0.1490 - acc: 0.9806\n",
            "Epoch 74/100\n",
            "463/463 [==============================] - 0s 204us/sample - loss: 0.1434 - acc: 0.9870\n",
            "Epoch 75/100\n",
            "463/463 [==============================] - 0s 214us/sample - loss: 0.1616 - acc: 0.9827\n",
            "Epoch 76/100\n",
            "463/463 [==============================] - 0s 217us/sample - loss: 0.1582 - acc: 0.9827\n",
            "Epoch 77/100\n",
            "463/463 [==============================] - 0s 192us/sample - loss: 0.1473 - acc: 0.9892\n",
            "Epoch 78/100\n",
            "463/463 [==============================] - 0s 229us/sample - loss: 0.1332 - acc: 0.9957\n",
            "Epoch 79/100\n",
            "463/463 [==============================] - 0s 190us/sample - loss: 0.1348 - acc: 0.9935\n",
            "Epoch 80/100\n",
            "463/463 [==============================] - 0s 186us/sample - loss: 0.1248 - acc: 0.9827\n",
            "Epoch 81/100\n",
            "463/463 [==============================] - 0s 236us/sample - loss: 0.1279 - acc: 0.9914\n",
            "Epoch 82/100\n",
            "463/463 [==============================] - 0s 192us/sample - loss: 0.1207 - acc: 0.9870\n",
            "Epoch 83/100\n",
            "463/463 [==============================] - 0s 229us/sample - loss: 0.1341 - acc: 0.9806\n",
            "Epoch 84/100\n",
            "463/463 [==============================] - 0s 206us/sample - loss: 0.0904 - acc: 0.9957\n",
            "Epoch 85/100\n",
            "463/463 [==============================] - 0s 212us/sample - loss: 0.1044 - acc: 0.9849\n",
            "Epoch 86/100\n",
            "463/463 [==============================] - 0s 203us/sample - loss: 0.0916 - acc: 0.9914\n",
            "Epoch 87/100\n",
            "463/463 [==============================] - 0s 204us/sample - loss: 0.1097 - acc: 0.9870\n",
            "Epoch 88/100\n",
            "463/463 [==============================] - 0s 204us/sample - loss: 0.0885 - acc: 0.9935\n",
            "Epoch 89/100\n",
            "463/463 [==============================] - 0s 208us/sample - loss: 0.1065 - acc: 0.9935\n",
            "Epoch 90/100\n",
            "463/463 [==============================] - 0s 207us/sample - loss: 0.0847 - acc: 1.0000\n",
            "Epoch 91/100\n",
            "463/463 [==============================] - 0s 220us/sample - loss: 0.0938 - acc: 0.9892\n",
            "Epoch 92/100\n",
            "463/463 [==============================] - 0s 200us/sample - loss: 0.0912 - acc: 0.9957\n",
            "Epoch 93/100\n",
            "463/463 [==============================] - 0s 201us/sample - loss: 0.0840 - acc: 0.9935\n",
            "Epoch 94/100\n",
            "463/463 [==============================] - 0s 227us/sample - loss: 0.0816 - acc: 0.9935\n",
            "Epoch 95/100\n",
            "463/463 [==============================] - 0s 225us/sample - loss: 0.0668 - acc: 0.9957\n",
            "Epoch 96/100\n",
            "463/463 [==============================] - 0s 218us/sample - loss: 0.0695 - acc: 0.9914\n",
            "Epoch 97/100\n",
            "463/463 [==============================] - 0s 195us/sample - loss: 0.0685 - acc: 0.9914\n",
            "Epoch 98/100\n",
            "463/463 [==============================] - 0s 193us/sample - loss: 0.0750 - acc: 0.9978\n",
            "Epoch 99/100\n",
            "463/463 [==============================] - 0s 203us/sample - loss: 0.0687 - acc: 0.9935\n",
            "Epoch 100/100\n",
            "463/463 [==============================] - 0s 203us/sample - loss: 0.0874 - acc: 0.9870\n"
          ]
        }
      ]
    },
    {
      "cell_type": "markdown",
      "metadata": {
        "id": "l8fggCl0U7W0"
      },
      "source": [
        "Install version 2.10.0 of h5py package"
      ]
    },
    {
      "cell_type": "code",
      "metadata": {
        "colab": {
          "base_uri": "https://localhost:8080/",
          "height": 323
        },
        "id": "-LM7oL0kv3Iw",
        "outputId": "b4d4053a-fb69-4088-d4ce-607b9b562318"
      },
      "source": [
        "!pip uninstall h5py\n",
        "!pip install h5py==2.10.0"
      ],
      "execution_count": null,
      "outputs": [
        {
          "output_type": "stream",
          "name": "stdout",
          "text": [
            "Found existing installation: h5py 2.10.0\n",
            "Uninstalling h5py-2.10.0:\n",
            "  Would remove:\n",
            "    /usr/local/lib/python3.7/dist-packages/h5py-2.10.0.dist-info/*\n",
            "    /usr/local/lib/python3.7/dist-packages/h5py/*\n",
            "Proceed (y/n)? y\n",
            "  Successfully uninstalled h5py-2.10.0\n",
            "Collecting h5py==2.10.0\n",
            "  Using cached h5py-2.10.0-cp37-cp37m-manylinux1_x86_64.whl (2.9 MB)\n",
            "Requirement already satisfied: six in /usr/local/lib/python3.7/dist-packages (from h5py==2.10.0) (1.15.0)\n",
            "Requirement already satisfied: numpy>=1.7 in /usr/local/lib/python3.7/dist-packages (from h5py==2.10.0) (1.19.5)\n",
            "Installing collected packages: h5py\n",
            "Successfully installed h5py-2.10.0\n"
          ]
        },
        {
          "output_type": "display_data",
          "data": {
            "application/vnd.colab-display-data+json": {
              "pip_warning": {
                "packages": [
                  "h5py"
                ]
              }
            }
          },
          "metadata": {}
        }
      ]
    },
    {
      "cell_type": "markdown",
      "metadata": {
        "id": "2ZP69uZMVbSL"
      },
      "source": [
        "Load the trained model"
      ]
    },
    {
      "cell_type": "code",
      "metadata": {
        "id": "FelGadA5uZPh"
      },
      "source": [
        "#Starting the Bot\n",
        "from rasa_core.agent import Agent\n",
        "agent = Agent.load('models/dialogue', interpreter=model_directory)"
      ],
      "execution_count": null,
      "outputs": []
    },
    {
      "cell_type": "markdown",
      "metadata": {
        "id": "jxgGAybxVnG_"
      },
      "source": [
        "Write a function to tale inputs for the chatbot and gives out an output while stopping when 'stop' is typed in."
      ]
    },
    {
      "cell_type": "code",
      "metadata": {
        "colab": {
          "base_uri": "https://localhost:8080/",
          "height": 663
        },
        "id": "c1nOPTca0QBA",
        "outputId": "936ad35e-e80f-43df-81fe-ec02be6dae83"
      },
      "source": [
        "print(\"Your bot is ready to talk! Type your messages here or send 'stop'\" + \"\\n\\n\" + \"You:\")\n",
        "while True:\n",
        "    a = input()\n",
        "    if a == 'stop':\n",
        "        break\n",
        "    responses = agent.handle_message(a)\n",
        "    for response in responses:\n",
        "        print(response[\"text\"])"
      ],
      "execution_count": null,
      "outputs": [
        {
          "name": "stdout",
          "output_type": "stream",
          "text": [
            "Your bot is ready to talk! Type your messages here or send 'stop'\n",
            "\n",
            "You:\n",
            "what were the movies made in 2018?\n",
            "Bye\n",
            "are you a human?\n",
            "I am a bot, powered by Rasa.\n",
            "what movies have been released in 2018?\n"
          ]
        },
        {
          "output_type": "error",
          "ename": "KeyboardInterrupt",
          "evalue": "ignored",
          "traceback": [
            "\u001b[0;31m---------------------------------------------------------------------------\u001b[0m",
            "\u001b[0;31mKeyboardInterrupt\u001b[0m                         Traceback (most recent call last)",
            "\u001b[0;32m/usr/local/lib/python3.7/dist-packages/ipykernel/kernelbase.py\u001b[0m in \u001b[0;36m_input_request\u001b[0;34m(self, prompt, ident, parent, password)\u001b[0m\n\u001b[1;32m    728\u001b[0m             \u001b[0;32mtry\u001b[0m\u001b[0;34m:\u001b[0m\u001b[0;34m\u001b[0m\u001b[0;34m\u001b[0m\u001b[0m\n\u001b[0;32m--> 729\u001b[0;31m                 \u001b[0mident\u001b[0m\u001b[0;34m,\u001b[0m \u001b[0mreply\u001b[0m \u001b[0;34m=\u001b[0m \u001b[0mself\u001b[0m\u001b[0;34m.\u001b[0m\u001b[0msession\u001b[0m\u001b[0;34m.\u001b[0m\u001b[0mrecv\u001b[0m\u001b[0;34m(\u001b[0m\u001b[0mself\u001b[0m\u001b[0;34m.\u001b[0m\u001b[0mstdin_socket\u001b[0m\u001b[0;34m,\u001b[0m \u001b[0;36m0\u001b[0m\u001b[0;34m)\u001b[0m\u001b[0;34m\u001b[0m\u001b[0;34m\u001b[0m\u001b[0m\n\u001b[0m\u001b[1;32m    730\u001b[0m             \u001b[0;32mexcept\u001b[0m \u001b[0mException\u001b[0m\u001b[0;34m:\u001b[0m\u001b[0;34m\u001b[0m\u001b[0;34m\u001b[0m\u001b[0m\n",
            "\u001b[0;32m/usr/local/lib/python3.7/dist-packages/jupyter_client/session.py\u001b[0m in \u001b[0;36mrecv\u001b[0;34m(self, socket, mode, content, copy)\u001b[0m\n\u001b[1;32m    802\u001b[0m         \u001b[0;32mtry\u001b[0m\u001b[0;34m:\u001b[0m\u001b[0;34m\u001b[0m\u001b[0;34m\u001b[0m\u001b[0m\n\u001b[0;32m--> 803\u001b[0;31m             \u001b[0mmsg_list\u001b[0m \u001b[0;34m=\u001b[0m \u001b[0msocket\u001b[0m\u001b[0;34m.\u001b[0m\u001b[0mrecv_multipart\u001b[0m\u001b[0;34m(\u001b[0m\u001b[0mmode\u001b[0m\u001b[0;34m,\u001b[0m \u001b[0mcopy\u001b[0m\u001b[0;34m=\u001b[0m\u001b[0mcopy\u001b[0m\u001b[0;34m)\u001b[0m\u001b[0;34m\u001b[0m\u001b[0;34m\u001b[0m\u001b[0m\n\u001b[0m\u001b[1;32m    804\u001b[0m         \u001b[0;32mexcept\u001b[0m \u001b[0mzmq\u001b[0m\u001b[0;34m.\u001b[0m\u001b[0mZMQError\u001b[0m \u001b[0;32mas\u001b[0m \u001b[0me\u001b[0m\u001b[0;34m:\u001b[0m\u001b[0;34m\u001b[0m\u001b[0;34m\u001b[0m\u001b[0m\n",
            "\u001b[0;32m/usr/local/lib/python3.7/dist-packages/zmq/sugar/socket.py\u001b[0m in \u001b[0;36mrecv_multipart\u001b[0;34m(self, flags, copy, track)\u001b[0m\n\u001b[1;32m    624\u001b[0m         \"\"\"\n\u001b[0;32m--> 625\u001b[0;31m         \u001b[0mparts\u001b[0m \u001b[0;34m=\u001b[0m \u001b[0;34m[\u001b[0m\u001b[0mself\u001b[0m\u001b[0;34m.\u001b[0m\u001b[0mrecv\u001b[0m\u001b[0;34m(\u001b[0m\u001b[0mflags\u001b[0m\u001b[0;34m,\u001b[0m \u001b[0mcopy\u001b[0m\u001b[0;34m=\u001b[0m\u001b[0mcopy\u001b[0m\u001b[0;34m,\u001b[0m \u001b[0mtrack\u001b[0m\u001b[0;34m=\u001b[0m\u001b[0mtrack\u001b[0m\u001b[0;34m)\u001b[0m\u001b[0;34m]\u001b[0m\u001b[0;34m\u001b[0m\u001b[0;34m\u001b[0m\u001b[0m\n\u001b[0m\u001b[1;32m    626\u001b[0m         \u001b[0;31m# have first part already, only loop while more to receive\u001b[0m\u001b[0;34m\u001b[0m\u001b[0;34m\u001b[0m\u001b[0;34m\u001b[0m\u001b[0m\n",
            "\u001b[0;32mzmq/backend/cython/socket.pyx\u001b[0m in \u001b[0;36mzmq.backend.cython.socket.Socket.recv\u001b[0;34m()\u001b[0m\n",
            "\u001b[0;32mzmq/backend/cython/socket.pyx\u001b[0m in \u001b[0;36mzmq.backend.cython.socket.Socket.recv\u001b[0;34m()\u001b[0m\n",
            "\u001b[0;32mzmq/backend/cython/socket.pyx\u001b[0m in \u001b[0;36mzmq.backend.cython.socket._recv_copy\u001b[0;34m()\u001b[0m\n",
            "\u001b[0;32m/usr/local/lib/python3.7/dist-packages/zmq/backend/cython/checkrc.pxd\u001b[0m in \u001b[0;36mzmq.backend.cython.checkrc._check_rc\u001b[0;34m()\u001b[0m\n",
            "\u001b[0;31mKeyboardInterrupt\u001b[0m: ",
            "\nDuring handling of the above exception, another exception occurred:\n",
            "\u001b[0;31mKeyboardInterrupt\u001b[0m                         Traceback (most recent call last)",
            "\u001b[0;32m<ipython-input-36-37a5012c6cc1>\u001b[0m in \u001b[0;36m<module>\u001b[0;34m\u001b[0m\n\u001b[1;32m      1\u001b[0m \u001b[0mprint\u001b[0m\u001b[0;34m(\u001b[0m\u001b[0;34m\"Your bot is ready to talk! Type your messages here or send 'stop'\"\u001b[0m \u001b[0;34m+\u001b[0m \u001b[0;34m\"\\n\\n\"\u001b[0m \u001b[0;34m+\u001b[0m \u001b[0;34m\"You:\"\u001b[0m\u001b[0;34m)\u001b[0m\u001b[0;34m\u001b[0m\u001b[0;34m\u001b[0m\u001b[0m\n\u001b[1;32m      2\u001b[0m \u001b[0;32mwhile\u001b[0m \u001b[0;32mTrue\u001b[0m\u001b[0;34m:\u001b[0m\u001b[0;34m\u001b[0m\u001b[0;34m\u001b[0m\u001b[0m\n\u001b[0;32m----> 3\u001b[0;31m     \u001b[0ma\u001b[0m \u001b[0;34m=\u001b[0m \u001b[0minput\u001b[0m\u001b[0;34m(\u001b[0m\u001b[0;34m)\u001b[0m\u001b[0;34m\u001b[0m\u001b[0;34m\u001b[0m\u001b[0m\n\u001b[0m\u001b[1;32m      4\u001b[0m     \u001b[0;32mif\u001b[0m \u001b[0ma\u001b[0m \u001b[0;34m==\u001b[0m \u001b[0;34m'stop'\u001b[0m\u001b[0;34m:\u001b[0m\u001b[0;34m\u001b[0m\u001b[0;34m\u001b[0m\u001b[0m\n\u001b[1;32m      5\u001b[0m         \u001b[0;32mbreak\u001b[0m\u001b[0;34m\u001b[0m\u001b[0;34m\u001b[0m\u001b[0m\n",
            "\u001b[0;32m/usr/local/lib/python3.7/dist-packages/ipykernel/kernelbase.py\u001b[0m in \u001b[0;36mraw_input\u001b[0;34m(self, prompt)\u001b[0m\n\u001b[1;32m    702\u001b[0m             \u001b[0mself\u001b[0m\u001b[0;34m.\u001b[0m\u001b[0m_parent_ident\u001b[0m\u001b[0;34m,\u001b[0m\u001b[0;34m\u001b[0m\u001b[0;34m\u001b[0m\u001b[0m\n\u001b[1;32m    703\u001b[0m             \u001b[0mself\u001b[0m\u001b[0;34m.\u001b[0m\u001b[0m_parent_header\u001b[0m\u001b[0;34m,\u001b[0m\u001b[0;34m\u001b[0m\u001b[0;34m\u001b[0m\u001b[0m\n\u001b[0;32m--> 704\u001b[0;31m             \u001b[0mpassword\u001b[0m\u001b[0;34m=\u001b[0m\u001b[0;32mFalse\u001b[0m\u001b[0;34m,\u001b[0m\u001b[0;34m\u001b[0m\u001b[0;34m\u001b[0m\u001b[0m\n\u001b[0m\u001b[1;32m    705\u001b[0m         )\n\u001b[1;32m    706\u001b[0m \u001b[0;34m\u001b[0m\u001b[0m\n",
            "\u001b[0;32m/usr/local/lib/python3.7/dist-packages/ipykernel/kernelbase.py\u001b[0m in \u001b[0;36m_input_request\u001b[0;34m(self, prompt, ident, parent, password)\u001b[0m\n\u001b[1;32m    732\u001b[0m             \u001b[0;32mexcept\u001b[0m \u001b[0mKeyboardInterrupt\u001b[0m\u001b[0;34m:\u001b[0m\u001b[0;34m\u001b[0m\u001b[0;34m\u001b[0m\u001b[0m\n\u001b[1;32m    733\u001b[0m                 \u001b[0;31m# re-raise KeyboardInterrupt, to truncate traceback\u001b[0m\u001b[0;34m\u001b[0m\u001b[0;34m\u001b[0m\u001b[0;34m\u001b[0m\u001b[0m\n\u001b[0;32m--> 734\u001b[0;31m                 \u001b[0;32mraise\u001b[0m \u001b[0mKeyboardInterrupt\u001b[0m\u001b[0;34m\u001b[0m\u001b[0;34m\u001b[0m\u001b[0m\n\u001b[0m\u001b[1;32m    735\u001b[0m             \u001b[0;32melse\u001b[0m\u001b[0;34m:\u001b[0m\u001b[0;34m\u001b[0m\u001b[0;34m\u001b[0m\u001b[0m\n\u001b[1;32m    736\u001b[0m                 \u001b[0;32mbreak\u001b[0m\u001b[0;34m\u001b[0m\u001b[0;34m\u001b[0m\u001b[0m\n",
            "\u001b[0;31mKeyboardInterrupt\u001b[0m: "
          ]
        }
      ]
    },
    {
      "cell_type": "code",
      "metadata": {
        "id": "1O086vj-kuqm"
      },
      "source": [
        ""
      ],
      "execution_count": null,
      "outputs": []
    }
  ]
}
